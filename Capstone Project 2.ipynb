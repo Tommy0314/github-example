{
    "nbformat_minor": 1, 
    "cells": [
        {
            "source": "Week 3 Question 1", 
            "cell_type": "markdown", 
            "metadata": {}
        }, 
        {
            "execution_count": 1, 
            "cell_type": "code", 
            "metadata": {}, 
            "outputs": [], 
            "source": "import numpy as np # library for vectorized computation\nimport pandas as pd # library to process data as dataframes\n\nimport matplotlib.pyplot as plt # plotting library\n# backend for rendering plots within the browser\n%matplotlib inline \n\nfrom sklearn.cluster import KMeans \nfrom sklearn.datasets.samples_generator import make_blobs\n\nfrom bs4 import BeautifulSoup\nimport requests"
        }, 
        {
            "execution_count": 2, 
            "cell_type": "code", 
            "metadata": {}, 
            "outputs": [], 
            "source": "\nlink='https://en.wikipedia.org/wiki/List_of_postal_codes_of_Canada:_M'\ngetinfo = requests.get(link).text\n\ninfo = BeautifulSoup(getinfo,'lxml')\n\n"
        }, 
        {
            "execution_count": 5, 
            "cell_type": "code", 
            "metadata": {}, 
            "outputs": [
                {
                    "execution_count": 5, 
                    "metadata": {}, 
                    "data": {
                        "text/plain": "<bound method NDFrame.head of     Postalcode           Borough  \\\n0          M1B       Scarborough   \n1          M1C       Scarborough   \n2          M1E       Scarborough   \n3          M1G       Scarborough   \n4          M1H       Scarborough   \n5          M1J       Scarborough   \n6          M1K       Scarborough   \n7          M1L       Scarborough   \n8          M1M       Scarborough   \n9          M1N       Scarborough   \n10         M1P       Scarborough   \n11         M1R       Scarborough   \n12         M1S       Scarborough   \n13         M1T       Scarborough   \n14         M1V       Scarborough   \n15         M1W       Scarborough   \n16         M1X       Scarborough   \n17         M2H        North York   \n18         M2J        North York   \n19         M2K        North York   \n20         M2L        North York   \n21         M2M        North York   \n22         M2N        North York   \n23         M2P        North York   \n24         M2R        North York   \n25         M3A        North York   \n26         M3B        North York   \n27         M3C        North York   \n28         M3H        North York   \n29         M3J        North York   \n..         ...               ...   \n73         M6C              York   \n74         M6E              York   \n75         M6G  Downtown Toronto   \n76         M6H      West Toronto   \n77         M6J      West Toronto   \n78         M6K      West Toronto   \n79         M6L        North York   \n80         M6M              York   \n81         M6N              York   \n82         M6P      West Toronto   \n83         M6R      West Toronto   \n84         M6S      West Toronto   \n85         M7A      Queen's Park   \n86         M7R       Mississauga   \n87         M7Y      East Toronto   \n88         M8V         Etobicoke   \n89         M8W         Etobicoke   \n90         M8X         Etobicoke   \n91         M8Y         Etobicoke   \n92         M8Z         Etobicoke   \n93         M9A         Etobicoke   \n94         M9B         Etobicoke   \n95         M9C         Etobicoke   \n96         M9L        North York   \n97         M9M        North York   \n98         M9N              York   \n99         M9P         Etobicoke   \n100        M9R         Etobicoke   \n101        M9V         Etobicoke   \n102        M9W         Etobicoke   \n\n                                          Neighborhood  \n0                                       Rouge, Malvern  \n1               Highland Creek, Rouge Hill, Port Union  \n2                    Guildwood, Morningside, West Hill  \n3                                               Woburn  \n4                                            Cedarbrae  \n5                                  Scarborough Village  \n6          East Birchmount Park, Ionview, Kennedy Park  \n7                      Clairlea, Golden Mile, Oakridge  \n8      Cliffcrest, Cliffside, Scarborough Village West  \n9                          Birch Cliff, Cliffside West  \n10   Dorset Park, Scarborough Town Centre, Wexford ...  \n11                                   Maryvale, Wexford  \n12                                           Agincourt  \n13             Clarks Corners, Sullivan, Tam O'Shanter  \n14   Agincourt North, L'Amoreaux East, Milliken, St...  \n15                                     L'Amoreaux West  \n16                                         Upper Rouge  \n17                                   Hillcrest Village  \n18                        Fairview, Henry Farm, Oriole  \n19                                     Bayview Village  \n20                            Silver Hills, York Mills  \n21                             Newtonbrook, Willowdale  \n22                                    Willowdale South  \n23                                     York Mills West  \n24                                     Willowdale West  \n25                                           Parkwoods  \n26                                     Don Mills North  \n27                    Flemingdon Park, Don Mills South  \n28     Bathurst Manor, Downsview North, Wilson Heights  \n29                     Northwood Park, York University  \n..                                                 ...  \n73                                  Humewood-Cedarvale  \n74                                 Caledonia-Fairbanks  \n75                                            Christie  \n76                        Dovercourt Village, Dufferin  \n77                            Little Portugal, Trinity  \n78        Brockton, Exhibition Place, Parkdale Village  \n79                  Downsview, North Park, Upwood Park  \n80      Del Ray, Keelesdale, Mount Dennis, Silverthorn  \n81                       The Junction North, Runnymede  \n82                       High Park, The Junction South  \n83                              Parkdale, Roncesvalles  \n84                                  Runnymede, Swansea  \n85                                        Queen's Park  \n86               Canada Post Gateway Processing Centre  \n87   Business Reply Mail Processing Centre 969 Eastern  \n88        Humber Bay Shores, Mimico South, New Toronto  \n89                              Alderwood, Long Branch  \n90       The Kingsway, Montgomery Road, Old Mill North  \n91   Humber Bay, King's Mill Park, Kingsway Park So...  \n92   Kingsway Park South West, Mimico NW, The Queen...  \n93                                    Islington Avenue  \n94   Cloverdale, Islington, Martin Grove, Princess ...  \n95   Bloordale Gardens, Eringate, Markland Wood, Ol...  \n96                                       Humber Summit  \n97                                    Emery, Humberlea  \n98                                              Weston  \n99                                           Westmount  \n100  Kingsview Village, Martin Grove Gardens, Richv...  \n101  Albion Gardens, Beaumond Heights, Humbergate, ...  \n102                                          Northwest  \n\n[103 rows x 3 columns]>"
                    }, 
                    "output_type": "execute_result"
                }
            ], 
            "source": "table_columns = ['Postalcode','Borough','Neighborhood']\ncan = pd.DataFrame(columns = table_columns)\ncontent = info.find('div', class_='mw-parser-output')\ntable = content.table.tbody\npostcode = 0\nborough = 0\nneighborhood = 0\n\nfor tr in table.find_all('tr'):\n    i = 0\n    for td in tr.find_all('td'):\n        if i == 0:\n            postcode = td.text\n            i = i + 1\n        elif i == 1:\n            borough = td.text\n            i = i + 1\n        elif i == 2: \n            neighborhood = td.text.strip('\\n').replace(']','')\n    can = can.append({'Postalcode': postcode,\n                      'Borough': borough,\n                      'Neighborhood': neighborhood},\n                     ignore_index=True)\n\ncan = can[can.Borough!='Not assigned']\ncan = can[can.Borough!= 0]\ncan.reset_index(drop = True, inplace = True)\ni = 0\nfor i in range(0,can.shape[0]):\n    if can.iloc[i][2] == 'Not assigned':\n        can.iloc[i][2] = can.iloc[i][1]\n        i = i+1                               \ndf = can.groupby(['Postalcode','Borough'])['Neighborhood'].apply(', '.join).reset_index()\n\ndf = df.dropna()\nempty = 'Not assigned'\ndf = df[(df.Postalcode != empty ) & (df.Borough != empty) & (df.Neighborhood != empty)]\n\ndf.head"
        }, 
        {
            "execution_count": 6, 
            "cell_type": "code", 
            "metadata": {}, 
            "outputs": [
                {
                    "execution_count": 6, 
                    "metadata": {}, 
                    "data": {
                        "text/plain": "(103, 3)"
                    }, 
                    "output_type": "execute_result"
                }
            ], 
            "source": "df.shape\n"
        }, 
        {
            "source": "End of Week 3 question 1", 
            "cell_type": "markdown", 
            "metadata": {}
        }, 
        {
            "execution_count": null, 
            "cell_type": "code", 
            "metadata": {}, 
            "outputs": [], 
            "source": ""
        }, 
        {
            "execution_count": null, 
            "cell_type": "code", 
            "metadata": {}, 
            "outputs": [], 
            "source": ""
        }
    ], 
    "metadata": {
        "kernelspec": {
            "display_name": "Python 3.6", 
            "name": "python3", 
            "language": "python"
        }, 
        "language_info": {
            "mimetype": "text/x-python", 
            "nbconvert_exporter": "python", 
            "version": "3.6.8", 
            "name": "python", 
            "file_extension": ".py", 
            "pygments_lexer": "ipython3", 
            "codemirror_mode": {
                "version": 3, 
                "name": "ipython"
            }
        }
    }, 
    "nbformat": 4
}