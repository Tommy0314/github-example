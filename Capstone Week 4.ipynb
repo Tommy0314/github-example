{
    "nbformat_minor": 1, 
    "cells": [
        {
            "source": "# Introduction: To Find Best Location to open a Takeaway Store in \"City of Toronto\"\n \n We will find a area that full of Takeaway Stores (such as Sushi Shop/ Salad bars) or Cafes so that we can save lot of time in advertising our new Takeaway Store.\n Also find the middle point of those existing stores, so that we can attract the clients if they want to try something new.", 
            "cell_type": "markdown", 
            "metadata": {
                "collapsed": true
            }
        }, 
        {
            "source": " Data section:\n 1. We will pick the data of \"City of Toronto\".\n 2. Locate the existing Takeaway Stores and Cafes\n 3. Use K-mean clustering to form 3 clusters\n 4. Find the middle point of the clusters\n 5. Show the coordinates of it - it is the place where we set up our new Takeaway Store\n", 
            "cell_type": "markdown", 
            "metadata": {}
        }
    ], 
    "metadata": {
        "kernelspec": {
            "display_name": "Python 3.6", 
            "name": "python3", 
            "language": "python"
        }, 
        "language_info": {
            "mimetype": "text/x-python", 
            "nbconvert_exporter": "python", 
            "version": "3.6.8", 
            "name": "python", 
            "file_extension": ".py", 
            "pygments_lexer": "ipython3", 
            "codemirror_mode": {
                "version": 3, 
                "name": "ipython"
            }
        }
    }, 
    "nbformat": 4
}